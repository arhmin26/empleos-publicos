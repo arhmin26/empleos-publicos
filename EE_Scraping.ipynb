{
 "cells": [
  {
   "cell_type": "markdown",
   "metadata": {},
   "source": [
    "## Scraping Empleos Públicos con Selenium"
   ]
  },
  {
   "cell_type": "markdown",
   "metadata": {},
   "source": [
    "### Importación de librerías necesarias"
   ]
  },
  {
   "cell_type": "code",
   "execution_count": 13,
   "metadata": {},
   "outputs": [],
   "source": [
    "import selenium\n",
    "from selenium import webdriver\n",
    "from selenium.webdriver.chrome.options import Options\n",
    "import pandas as pd\n",
    "import numpy as np\n",
    "import re\n",
    "import datetime\n",
    "import random\n",
    "from time import sleep, time\n",
    "from IPython.core.display import clear_output"
   ]
  },
  {
   "cell_type": "markdown",
   "metadata": {},
   "source": [
    "### Definición de funciones a utilizar"
   ]
  },
  {
   "cell_type": "code",
   "execution_count": 14,
   "metadata": {},
   "outputs": [],
   "source": [
    "def xpath_text(xpath): # Recibe un xpath y retorna el texto (depurado) del elemento identificado con dicho xpath\n",
    "    try: return driver.find_element_by_xpath(xpath).text.replace('\\n',' ').replace(';',',').replace('\"','').strip()\n",
    "    except: return ''\n",
    "\n",
    "def clean(text,to_remove): # Recibe un texto y un valor a remover de dicho texto, que puede ser una expresión regular\n",
    "    if text == '':\n",
    "        return None\n",
    "    else:\n",
    "        try: return re.search(f'(?<={to_remove}).*',text).group(0).replace('\\u3000',' ').replace('\\u25cf',' ').strip()\n",
    "        except: return text.replace(to_remove,'',1).replace('\\u3000',' ').replace('\\u25cf',' ').strip()\n",
    "\n",
    "def to_int(text): # Recibe un texto e intenta la conversión a entero\n",
    "    try: return int(text.replace('.',''))\n",
    "    except: return None\n",
    "\n",
    "def to_date(text): # Recibe un texto e intenta la conversión a fecha\n",
    "    try: return datetime.datetime.strptime(text,'%d/%m/%Y').date()\n",
    "    except: return None"
   ]
  },
  {
   "cell_type": "markdown",
   "metadata": {},
   "source": [
    "### Scraping!"
   ]
  },
  {
   "cell_type": "markdown",
   "metadata": {},
   "source": [
    "Iniciando Selenium"
   ]
  },
  {
   "cell_type": "code",
   "execution_count": 15,
   "metadata": {},
   "outputs": [],
   "source": [
    "chrome_options = Options()\n",
    "chrome_options.add_argument(\"--headless\")\n",
    "path = r'C:\\Users\\user\\Notebooks\\chromedriver.exe' # Ruta del ejecutable de chromedriver\n",
    "driver = webdriver.Chrome(executable_path=path,options=chrome_options)"
   ]
  },
  {
   "cell_type": "markdown",
   "metadata": {},
   "source": [
    "Declaración de listas vacías donde se almacenarán los datos, para posteriormente proceder a poblarlas"
   ]
  },
  {
   "cell_type": "code",
   "execution_count": 16,
   "metadata": {},
   "outputs": [
    {
     "name": "stdout",
     "output_type": "stream",
     "text": [
      "Iteración: 55800; Frecuencia: 1.2008266432744723 iteraciones/s\n",
      "Tiempo total: 0:13:53.593427\n"
     ]
    }
   ],
   "source": [
    "estado = [] # Estado de la oferta\n",
    "trabajo = [] # Datos del trabajo: Ministerio, Institución, Cargo, N° Vacantes, Área, Región, Ciudad, Tipo de vacante, Renta bruta, Objetivo\n",
    "formacion = [] # Formación educacional\n",
    "requisito = [] # Requisitos generales o específicos\n",
    "especializacion = [] # Especialización o capacitación\n",
    "experiencia = [] # Experiencia sector público o privado\n",
    "competencia = [] # Competencias\n",
    "criterio = [] # Mecanismo de postulación - Proceso de selección\n",
    "documento = [] # Documentos requeridos para postular\n",
    "fecha = [] # Fechas de postulación, selección y finalización\n",
    "condicion = [] # Condiciones generales para la postulación\n",
    "\n",
    "url = \"https://www.empleospublicos.cl/pub/convocatorias/avisopizarronficha.aspx?i=\"\n",
    "start_time = time()\n",
    "request = 0\n",
    "init = 54800 # id de inicio\n",
    "final = 55800 # id final\n",
    "\n",
    "for i in range(init,final+1):\n",
    "    # sleep(0.01*random.random())\n",
    "    clear_output(wait = True)\n",
    "    request += 1\n",
    "    driver.get(url+str(i))\n",
    "    \n",
    "    estado.append(xpath_text('//*[@id=\"panelEstado\"]'))\n",
    "    formacion.append(xpath_text('//*[@id=\"lblFormacion\"]'))\n",
    "    trabajo.append([xpath_text('//*[@id=\"lblAvisoTrabajoDatos\"]/ul/li['+str(j)+']') for j in range(1,11)])\n",
    "    requisito.append(xpath_text('//*[@id=\"lblRequisitos\"]'))\n",
    "    especializacion.append(xpath_text('//*[@id=\"lblEspecializaciones\"]'))\n",
    "    experiencia.append(xpath_text('//*[@id=\"lblExperiencias\"]'))\n",
    "    competencia.append(xpath_text('//*[@id=\"lblCompetencias\"]'))\n",
    "    criterio.append(xpath_text('//*[@id=\"lblCriterio\"]'))\n",
    "    documento.append(xpath_text('//*[@id=\"lblContexto\"]'))\n",
    "    fecha.append([xpath_text('//*[@id=\"lblCalendarizacion\"]/ul/li[1]/table/tbody/tr['+str(j)+']/td[2]') for j in range(3,8,2)])\n",
    "    condicion.append(xpath_text('//*[@id=\"lblCalendarizacion\"]/ul/li[5]'))\n",
    "    \n",
    "    print(f'Iteración: {i}; Frecuencia: {request/(time()-start_time)} iteraciones/s')\n",
    "    print(f'Tiempo total: {str(datetime.timedelta(seconds=time()-start_time))}')\n",
    "driver.quit()"
   ]
  },
  {
   "cell_type": "markdown",
   "metadata": {},
   "source": [
    "Creación de dataframe que almacena información procesada de las listas"
   ]
  },
  {
   "cell_type": "code",
   "execution_count": 17,
   "metadata": {},
   "outputs": [],
   "source": [
    "df = pd.DataFrame({\n",
    "    'id': [i for i in range(init,final+1)],\n",
    "    'Estado': estado,\n",
    "    'Ministerio': [clean(row[0],'Ministerio') for row in trabajo],\n",
    "    'Institución': [clean(row[1],'Instituci.n / Entidad') for row in trabajo], #luego /TRIM, luego RTRIM\n",
    "    'Cargo': [clean(row[2],'Cargo') for row in trabajo],\n",
    "    'Vacantes': [to_int(clean(row[3],'Nº de Vacantes')) for row in trabajo],\n",
    "    'Área': [clean(row[4].replace('/','/ '),'.rea de Trabajo') for row in trabajo],\n",
    "    'Región': [clean(row[5],'Regi.n') for row in trabajo],\n",
    "    'Ciudad': [clean(row[6],'Ciudad') for row in trabajo],\n",
    "    'Tipo vacante': [clean(row[7],'Tipo de Vacante') for row in trabajo],\n",
    "    'Renta bruta': [to_int(clean(row[8],'Renta Bruta')) for row in trabajo],\n",
    "    'Objetivo': [clean(row[9],'Objetivo del Cargo') for row in trabajo],\n",
    "    'Formacion': [clean(row, 'Formaci.n Educacional') for row in formacion],\n",
    "    'Requisito': [clean(row,'Requisitos Generales / Específicos') for row in requisito],\n",
    "    'Especializacion': [clean(row,'Especializaci.n y/o Capacitación') for row in especializacion],\n",
    "    'Experiencia': [clean(row,'Experiencia sector público / sector privado') for row in experiencia],\n",
    "    'Competencia': [clean(row,'Competencias') for row in competencia],\n",
    "    'Mecanismo postulación': criterio,\n",
    "    'Documento requerido': [clean(row,'Documentos requeridos para postular') for row in documento],\n",
    "    'Fecha postulación inicio': [to_date(row[0][:row[0].find('-')]) for row in fecha],\n",
    "    'Fecha postulación fin': [to_date(row[0][row[0].find('-')+1:]) for row in fecha],\n",
    "    'Fecha selección inicio': [to_date(row[1][:row[1].find('-')]) for row in fecha],\n",
    "    'Fecha selección fin': [to_date(row[1][row[1].find('-')+1:]) for row in fecha],\n",
    "    'Fecha finalización inicio': [to_date(row[2][:row[2].find('-')]) for row in fecha],\n",
    "    'Fecha finalización fin': [to_date(row[2][row[2].find('-')+1:]) for row in fecha],\n",
    "    'Condicion': [clean(row,'Condiciones generales') for row in condicion]\n",
    "    })"
   ]
  },
  {
   "cell_type": "markdown",
   "metadata": {},
   "source": [
    "### Exportación de los datos"
   ]
  },
  {
   "cell_type": "code",
   "execution_count": 18,
   "metadata": {},
   "outputs": [],
   "source": [
    "filename = f'Data_EE_{init}_{final}.xlsx'\n",
    "writer = pd.ExcelWriter(r'C:\\Users\\user\\Documents\\Proyectos\\Empleos Públicos\\\\'+filename,\n",
    "                        engine='xlsxwriter',options={'strings_to_urls':False})\n",
    "df.to_excel(writer,index=False)\n",
    "writer.close()"
   ]
  }
 ],
 "metadata": {
  "kernelspec": {
   "display_name": "Python 3",
   "language": "python",
   "name": "python3"
  },
  "language_info": {
   "codemirror_mode": {
    "name": "ipython",
    "version": 3
   },
   "file_extension": ".py",
   "mimetype": "text/x-python",
   "name": "python",
   "nbconvert_exporter": "python",
   "pygments_lexer": "ipython3",
   "version": "3.7.1"
  }
 },
 "nbformat": 4,
 "nbformat_minor": 2
}
